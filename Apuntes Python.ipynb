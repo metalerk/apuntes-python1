{
 "cells": [
  {
   "cell_type": "markdown",
   "metadata": {},
   "source": [
    "# Apuntes Python"
   ]
  },
  {
   "cell_type": "markdown",
   "metadata": {},
   "source": [
    "***Para salir del intérprete:***\n",
    "- CTRL + D\n",
    "- exit()"
   ]
  },
  {
   "cell_type": "markdown",
   "metadata": {},
   "source": [
    "### Comentarios\n",
    "Existen dos tipos de comentarios: Una línea y multilínea.\n",
    "\n",
    "```python\n",
    "# Este es un comentario de una línea.\n",
    "\n",
    "\"\"\"\n",
    "Este es un comentario\n",
    "'multilínea'\n",
    "\"\"\"\n",
    "\n",
    "'''\n",
    "Este es un comentario\n",
    "\"multilínea\"\n",
    "'''\n",
    "```"
   ]
  },
  {
   "cell_type": "markdown",
   "metadata": {},
   "source": [
    "### Variables\n",
    "Existen varios tipos de dato:\n",
    "\n",
    "- Entero (int)\n",
    "- Punto flotante (float y double)\n",
    "- String (str)\n",
    "\n",
    "##### Estructuras o Colecciones\n",
    "\n",
    "- Lista (list)\n",
    "- Tupla (tuple)\n",
    "- Diccionario/hash (dict)\n",
    "- Conjunto (set)\n",
    "- Booleano (bool)"
   ]
  },
  {
   "cell_type": "code",
   "execution_count": 1,
   "metadata": {
    "collapsed": true
   },
   "outputs": [],
   "source": [
    "# Entero\n",
    "numero = 3"
   ]
  },
  {
   "cell_type": "code",
   "execution_count": 2,
   "metadata": {
    "collapsed": true
   },
   "outputs": [],
   "source": [
    "# Punto flotante\n",
    "numero_flotante = 3.1415"
   ]
  },
  {
   "cell_type": "code",
   "execution_count": 3,
   "metadata": {
    "collapsed": true
   },
   "outputs": [],
   "source": [
    "# Cadena (String)\n",
    "nombre = 'Mi nombre es'"
   ]
  },
  {
   "cell_type": "code",
   "execution_count": 4,
   "metadata": {},
   "outputs": [
    {
     "name": "stdout",
     "output_type": "stream",
     "text": [
      "[5, 2, 3.4, 'lalala', True]\n",
      "[8, 2, 3.4, 'lalala', True]\n"
     ]
    }
   ],
   "source": [
    "# Lista\n",
    "lista = [5, 2, 3.4, 'lalala', True,]\n",
    "print(lista)\n",
    "lista[0] = 8\n",
    "print(lista)"
   ]
  },
  {
   "cell_type": "code",
   "execution_count": 5,
   "metadata": {},
   "outputs": [
    {
     "name": "stdout",
     "output_type": "stream",
     "text": [
      "(5, 2, 3.4, 'lalala', True)\n"
     ]
    }
   ],
   "source": [
    "# Tupla\n",
    "tupla = (1, 2, 3.4, 'lalala', True,)\n",
    "\n",
    "# Cambiar elemento\n",
    "tupla = list(tupla)\n",
    "tupla[0] = 5\n",
    "tupla = tuple(tupla)\n",
    "print(tupla)"
   ]
  },
  {
   "cell_type": "code",
   "execution_count": 6,
   "metadata": {},
   "outputs": [
    {
     "name": "stdout",
     "output_type": "stream",
     "text": [
      "{'name': 'Emilio', 'age': 26}\n"
     ]
    }
   ],
   "source": [
    "# Diccionario/Hash\n",
    "\n",
    "user = {'username': 'admin', 'password': 1234}\n",
    "\n",
    "d = {'name': 'Luis', 'age': 26,}\n",
    "\n",
    "# Cambiar elemento\n",
    "d['name'] = 'Emilio'\n",
    "print(d)\n",
    "\n",
    "# trailing comma es la coma al final"
   ]
  },
  {
   "cell_type": "code",
   "execution_count": 7,
   "metadata": {},
   "outputs": [
    {
     "data": {
      "text/plain": [
       "{2, 4}"
      ]
     },
     "execution_count": 7,
     "metadata": {},
     "output_type": "execute_result"
    }
   ],
   "source": [
    "# Conjunto\n",
    "c1 = {1,2,3,4, True,}\n",
    "c2 = {2, 4}\n",
    "c1.intersection(c2)"
   ]
  },
  {
   "cell_type": "code",
   "execution_count": 8,
   "metadata": {
    "collapsed": true
   },
   "outputs": [],
   "source": [
    "# Booleano\n",
    "# Un tipo de dato es verdadero si es diferente de cero o None.\n",
    "# Una estructura es verdadera si tiene elementos\n",
    "\n",
    "valor = True\n",
    "Valor = False"
   ]
  },
  {
   "cell_type": "markdown",
   "metadata": {},
   "source": [
    "### Operadores de comparación\n",
    "\n",
    "- == igualdad\n",
    "- != desigualdad\n",
    "- < >"
   ]
  },
  {
   "cell_type": "markdown",
   "metadata": {},
   "source": [
    "### Operadores Aritméticos\n",
    "- // división entera\n",
    "- % Módulo (residuo de la división)\n",
    "- ** Potencia"
   ]
  },
  {
   "cell_type": "markdown",
   "metadata": {},
   "source": [
    "### Operadores lógicos\n",
    "\n",
    "- or\n",
    "- and\n",
    "- not"
   ]
  },
  {
   "cell_type": "code",
   "execution_count": 9,
   "metadata": {},
   "outputs": [
    {
     "name": "stdout",
     "output_type": "stream",
     "text": [
      "False\n",
      "True\n",
      "False\n",
      "True\n",
      "True\n"
     ]
    }
   ],
   "source": [
    "# Sentencia\n",
    "\n",
    "edad = 15\n",
    "mayoria_de_edad = 18\n",
    "\n",
    "# False\n",
    "print((edad >= mayoria_de_edad))\n",
    "\n",
    "# True\n",
    "print(not (edad >= mayoria_de_edad))\n",
    "\n",
    "# False\n",
    "print((edad >= mayoria_de_edad) and (edad == 15))\n",
    "\n",
    "# True\n",
    "print((edad <= mayoria_de_edad) and (edad == 15))\n",
    "\n",
    "# True\n",
    "print((edad >= mayoria_de_edad) or (edad == 15))"
   ]
  },
  {
   "cell_type": "markdown",
   "metadata": {},
   "source": [
    "### Funciones\n",
    "Para definir una función utilizamos def y return"
   ]
  },
  {
   "cell_type": "code",
   "execution_count": 10,
   "metadata": {},
   "outputs": [
    {
     "name": "stdout",
     "output_type": "stream",
     "text": [
      "Hola\n",
      "None\n"
     ]
    }
   ],
   "source": [
    "# a los espacios se les llama indentación y normalmente son 4\n",
    "# si no se especifica el valor de retorno, siempre regresa None\n",
    "\n",
    "def saludo():\n",
    "    print('Hola')\n",
    "\n",
    "res = saludo()\n",
    "print(res)"
   ]
  },
  {
   "cell_type": "code",
   "execution_count": 18,
   "metadata": {},
   "outputs": [
    {
     "name": "stdout",
     "output_type": "stream",
     "text": [
      "26\n",
      "False\n",
      "15\n",
      "True\n"
     ]
    }
   ],
   "source": [
    "def login(username, password, age=26):\n",
    "    print(age)\n",
    "    if (username == 'admin') and (password == '123456') and (age == 15):\n",
    "        return True\n",
    "    else:\n",
    "        return False\n",
    "    \n",
    "is_active = login('admin1', '938344q')\n",
    "print(is_active)\n",
    "is_active = login(username='admin', password='123456', age=15)\n",
    "print(is_active)"
   ]
  },
  {
   "cell_type": "code",
   "execution_count": 25,
   "metadata": {},
   "outputs": [
    {
     "data": {
      "text/plain": [
       "7"
      ]
     },
     "execution_count": 25,
     "metadata": {},
     "output_type": "execute_result"
    }
   ],
   "source": [
    "def envolv(a, b):\n",
    "    def suma(a, b):\n",
    "        return a + b\n",
    "    return suma(a, b)\n",
    "\n",
    "envolv(3, 4)"
   ]
  },
  {
   "cell_type": "markdown",
   "metadata": {},
   "source": [
    "# Programación orientada a objetos"
   ]
  },
  {
   "cell_type": "markdown",
   "metadata": {},
   "source": [
    "### Clases"
   ]
  },
  {
   "cell_type": "code",
   "execution_count": 29,
   "metadata": {},
   "outputs": [
    {
     "name": "stdout",
     "output_type": "stream",
     "text": [
      "Hola, mi nombre es Luis\n",
      "1.8\n"
     ]
    }
   ],
   "source": [
    "class Humano: \n",
    "    # Atributos\n",
    "    color_ojos = 'azules'\n",
    "    altura = 1.80\n",
    "    peso = 80\n",
    "    cabello = 'negro'\n",
    "    nombre = 'Luis'\n",
    "    edad = 26\n",
    "    \n",
    "    # Métodos (acciones)\n",
    "    def hablar(self):\n",
    "        print('Hola, mi nombre es {}'.format(self.nombre))\n",
    "        \n",
    "persona = Humano()\n",
    "persona.hablar()\n",
    "print(persona.altura)"
   ]
  },
  {
   "cell_type": "code",
   "execution_count": 34,
   "metadata": {},
   "outputs": [
    {
     "name": "stdout",
     "output_type": "stream",
     "text": [
      "Acabo de nacer\n",
      "Hola, mi nombre es Emilio\n",
      "Muero!\n"
     ]
    }
   ],
   "source": [
    "class Humano: \n",
    "    # Atributos\n",
    "    color_ojos = 'azules'\n",
    "    altura = 1.80\n",
    "    peso = 80\n",
    "    cabello = 'negro'\n",
    "    nombre = 'Luis'\n",
    "    edad = 26\n",
    "    \n",
    "    # Constructor (Se ejecuta en el momento de la creación del objeto)\n",
    "    def __init__(self, name):\n",
    "        print('Acabo de nacer')\n",
    "        self.nombre = name\n",
    "    \n",
    "    # Métodos (acciones)\n",
    "    def hablar(self):\n",
    "        print('Hola, mi nombre es {}'.format(self.nombre))   \n",
    "        \n",
    "    # Destructor\n",
    "    def __del__(self):\n",
    "        print('Muero!')\n",
    "        \n",
    "# Persona es un objeto\n",
    "persona = Humano(name='Emilio')\n",
    "persona.hablar()\n",
    "del(persona)"
   ]
  },
  {
   "cell_type": "code",
   "execution_count": null,
   "metadata": {
    "collapsed": true
   },
   "outputs": [],
   "source": []
  }
 ],
 "metadata": {
  "kernelspec": {
   "display_name": "Python 3",
   "language": "python",
   "name": "python3"
  },
  "language_info": {
   "codemirror_mode": {
    "name": "ipython",
    "version": 3
   },
   "file_extension": ".py",
   "mimetype": "text/x-python",
   "name": "python",
   "nbconvert_exporter": "python",
   "pygments_lexer": "ipython3",
   "version": "3.6.2"
  }
 },
 "nbformat": 4,
 "nbformat_minor": 2
}
